{
  "nbformat": 4,
  "nbformat_minor": 0,
  "metadata": {
    "colab": {
      "provenance": [],
      "authorship_tag": "ABX9TyPOcAQd3Ic/sG0ug4Hc+EYC",
      "include_colab_link": true
    },
    "kernelspec": {
      "name": "python3",
      "display_name": "Python 3"
    },
    "language_info": {
      "name": "python"
    }
  },
  "cells": [
    {
      "cell_type": "markdown",
      "metadata": {
        "id": "view-in-github",
        "colab_type": "text"
      },
      "source": [
        "<a href=\"https://colab.research.google.com/github/KashishTiwari-17/OIBSIP_Data-science_task4/blob/main/task_4%5Bspam_detection%5D.ipynb\" target=\"_parent\"><img src=\"https://colab.research.google.com/assets/colab-badge.svg\" alt=\"Open In Colab\"/></a>"
      ]
    },
    {
      "cell_type": "code",
      "execution_count": null,
      "metadata": {
        "colab": {
          "base_uri": "https://localhost:8080/",
          "height": 975
        },
        "id": "CHwZYMfxtEA1",
        "outputId": "989c1634-ee14-4d5b-9a21-174eb3fadc20"
      },
      "outputs": [
        {
          "output_type": "stream",
          "name": "stdout",
          "text": [
            "  label                                               text\n",
            "0   ham  Go until jurong point, crazy.. Available only ...\n",
            "1   ham                      Ok lar... Joking wif u oni...\n",
            "2  spam  Free entry in 2 a wkly comp to win FA Cup fina...\n",
            "3   ham  U dun say so early hor... U c already then say...\n",
            "4   ham  Nah I don't think he goes to usf, he lives aro...\n",
            "Accuracy: 0.968609865470852\n",
            "Classification Report:\n",
            "               precision    recall  f1-score   support\n",
            "\n",
            "           0       0.96      1.00      0.98       965\n",
            "           1       1.00      0.77      0.87       150\n",
            "\n",
            "    accuracy                           0.97      1115\n",
            "   macro avg       0.98      0.88      0.93      1115\n",
            "weighted avg       0.97      0.97      0.97      1115\n",
            "\n"
          ]
        },
        {
          "output_type": "display_data",
          "data": {
            "text/plain": [
              "<Figure size 640x480 with 2 Axes>"
            ],
            "image/png": "[encoded data removed]"
          },
          "metadata": {}
        },
        {
          "output_type": "stream",
          "name": "stdout",
          "text": [
            "Model saved as 'spam_detector_model.pkl'\n",
            "\n",
            "📧 Email Spam Detector\n",
            "\n",
            "Enter email text to classify (or type 'exit' to quit):\n",
            "Congratulations! You've won a free ticket. Click now to claim.\n",
            "Result: 🚨 Spam\n",
            "\n",
            "Enter email text to classify (or type 'exit' to quit):\n",
            "exit\n",
            "Goodbye! 👋\n"
          ]
        }
      ],
      "source": [
        "# Step 1: Import Libraries\n",
        "import pandas as pd\n",
        "import numpy as np\n",
        "import string\n",
        "import matplotlib.pyplot as plt\n",
        "import seaborn as sns\n",
        "from sklearn.model_selection import train_test_split\n",
        "from sklearn.feature_extraction.text import TfidfVectorizer\n",
        "from sklearn.naive_bayes import MultinomialNB\n",
        "from sklearn.metrics import confusion_matrix, classification_report, accuracy_score\n",
        "from sklearn.pipeline import Pipeline\n",
        "import joblib\n",
        "import re\n",
        "\n",
        "# Step 2: Load Dataset\n",
        "df = pd.read_csv('/content/spam.csv', encoding='latin-1')\n",
        "df = df.rename(columns={'v1': 'label', 'v2': 'text'})[['label', 'text']]  # keep only necessary columns\n",
        "print(df.head())\n",
        "\n",
        "# Step 3: Convert labels to binary (ham = 0, spam = 1)\n",
        "df['label_num'] = df['label'].map({'ham': 0, 'spam': 1})\n",
        "\n",
        "# Step 4: Text Preprocessing Function\n",
        "def clean_text(text):\n",
        "    text = text.lower()\n",
        "    text = re.sub(r'\\d+', '', text)  # remove numbers\n",
        "    text = text.translate(str.maketrans('', '', string.punctuation))  # remove punctuation\n",
        "    text = re.sub(r'\\s+', ' ', text).strip()  # remove extra spaces\n",
        "    return text\n",
        "\n",
        "df['clean_text'] = df['text'].apply(clean_text)\n",
        "\n",
        "# Step 5: Train-Test Split\n",
        "X = df['clean_text']\n",
        "y = df['label_num']\n",
        "X_train, X_test, y_train, y_test = train_test_split(X, y, test_size=0.2, random_state=42)\n",
        "\n",
        "# Step 6: Create Pipeline with TF-IDF and Naive Bayes\n",
        "model = Pipeline([\n",
        "    ('tfidf', TfidfVectorizer(stop_words='english')),\n",
        "    ('clf', MultinomialNB())\n",
        "])\n",
        "\n",
        "# Step 7: Train Model\n",
        "model.fit(X_train, y_train)\n",
        "\n",
        "# Step 8: Evaluate Model\n",
        "y_pred = model.predict(X_test)\n",
        "print(\"Accuracy:\", accuracy_score(y_test, y_pred))\n",
        "print(\"Classification Report:\\n\", classification_report(y_test, y_pred))\n",
        "\n",
        "# Confusion Matrix\n",
        "sns.heatmap(confusion_matrix(y_test, y_pred), annot=True, fmt='d', cmap='Blues')\n",
        "plt.xlabel(\"Predicted\")\n",
        "plt.ylabel(\"Actual\")\n",
        "plt.title(\"Confusion Matrix\")\n",
        "plt.show()\n",
        "\n",
        "# Step 9: Save the Model\n",
        "joblib.dump(model, 'spam_detector_model.pkl')\n",
        "print(\"Model saved as 'spam_detector_model.pkl'\")\n",
        "# Load the saved model\n",
        "model = joblib.load('spam_detector_model.pkl')\n",
        "\n",
        "def classify_user_email():\n",
        "    print(\"\\n📧 Email Spam Detector\")\n",
        "    while True:\n",
        "        user_email = input(\"\\nEnter email text to classify (or type 'exit' to quit):\\n\")\n",
        "        if user_email.lower() == 'exit':\n",
        "            print(\"Goodbye! 👋\")\n",
        "            break\n",
        "\n",
        "        cleaned_input = clean_text(user_email)\n",
        "        prediction = model.predict([cleaned_input])[0]\n",
        "        result = \"🚨 Spam\" if prediction == 1 else \"✅ Not Spam\"\n",
        "        print(f\"Result: {result}\")\n",
        "\n",
        "# Run the classifier\n",
        "classify_user_email()\n"
      ]
    }
  ]
}